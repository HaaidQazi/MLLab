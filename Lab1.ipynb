import pandas as pd
# Read the CSV file
airbnb_data = pd.read_csv("/content/listings (1).csv")
# View the first 5 rows
airbnb_data.head()

url = "https://archive.ics.uci.edu/ml/machine-learning-databases/iris/iris.data"

# Define the column names
col_names = ["sepal_length_in_cm",
            "sepal_width_in_cm",
            "petal_length_in_cm",
            "petal_width_in_cm",
            "class"]

# Read data from URL
iris_data = pd.read_csv(url, names=col_names)

iris_data.head() 

# Export the file to the current working directory
iris_data.to_csv("cleaned_iris_data.csv")
